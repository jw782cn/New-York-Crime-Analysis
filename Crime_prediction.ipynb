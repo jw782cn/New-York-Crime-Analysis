{
  "nbformat": 4,
  "nbformat_minor": 0,
  "metadata": {
    "colab": {
      "provenance": [],
      "toc_visible": true
    },
    "kernelspec": {
      "name": "python3",
      "display_name": "Python 3"
    },
    "language_info": {
      "name": "python"
    }
  },
  "cells": [
    {
      "cell_type": "markdown",
      "source": [
        "# Crime Prediction"
      ],
      "metadata": {
        "id": "Ckum4fGs__bD"
      }
    },
    {
      "cell_type": "markdown",
      "source": [
        "Analysis\n",
        "- crime prediction\n",
        "- find features that affect the seriousness of crimes\n",
        "\n",
        "- feature preprocessing\n",
        "  - data preprocessing\n",
        "  - dimension reduction \n",
        "  - feature selection \n",
        "  - feature transformation\n",
        "- modeling \n",
        "  - try different models\n",
        "  - experiments: tune parameters\n",
        "- feature monitoring \n",
        "  - feature importance evalution, find common features that have high feature importance\n",
        "\n"
      ],
      "metadata": {
        "id": "f3llgipCCSMy"
      }
    },
    {
      "cell_type": "markdown",
      "source": [
        "## Load Dataset"
      ],
      "metadata": {
        "id": "nJSQAymtGFic"
      }
    },
    {
      "cell_type": "code",
      "source": [
        "import pandas as pd\n",
        "import matplotlib.pyplot as plt\n",
        "import numpy as np\n",
        "from datetime import datetime"
      ],
      "metadata": {
        "id": "obe6t2qu57rG"
      },
      "execution_count": null,
      "outputs": []
    },
    {
      "cell_type": "code",
      "execution_count": null,
      "metadata": {
        "colab": {
          "base_uri": "https://localhost:8080/"
        },
        "id": "vYlpfSnx5qeu",
        "outputId": "8803f8b4-a098-4c04-81bd-08eb36975cdb"
      },
      "outputs": [
        {
          "output_type": "stream",
          "name": "stdout",
          "text": [
            "Drive already mounted at /content/drive/; to attempt to forcibly remount, call drive.mount(\"/content/drive/\", force_remount=True).\n",
            " crime_features.csv\n",
            " crime_features_old.csv\n",
            " crime_preprocessed.csv\n",
            "'Crimes in different Boroughs.jpg'\n",
            "'Crime types.jpg'\n",
            "'Jurisdiction responsible for incident.jpg'\n",
            "'Level of offense.jpg'\n",
            "'Name of NYCHA housing development of occurrence.jpg'\n",
            " NYPD_Complaint_Data_Current__Year_To_Date_.csv\n",
            " NYPD_Complaint_Incident_Level_Data_Footnotes.pdf\n",
            " NYPD_Complaint_YTD_DataDictionary.xlsx\n",
            "'patrol borough in which the incident occurred.jpg'\n",
            " PDCode_PenalLaw.xlsx\n",
            "'Specific location of occurrence in or around the premises.jpg'\n",
            "'whether crime was successfully completed or attempted.jpg'\n"
          ]
        }
      ],
      "source": [
        "from google.colab import drive\n",
        "drive.mount('/content/drive/')\n",
        "import os\n",
        "# TODO: Put your dataset in your google drive!\n",
        "os.chdir('/content/drive/MyDrive/Coding Projects/DS/Project/Data/')\n",
        "!ls"
      ]
    },
    {
      "cell_type": "code",
      "source": [
        "data_path = \"crime_features.csv\"\n",
        "df = pd.read_csv(data_path)\n",
        "field_names = list(df.columns)\n",
        "\n",
        "data_path = \"NYPD_Complaint_Data_Current__Year_To_Date_.csv\"\n",
        "df2 = pd.read_csv(data_path)\n",
        "field_names = list(df.columns)"
      ],
      "metadata": {
        "id": "7ChL5X4Q5vBV"
      },
      "execution_count": null,
      "outputs": []
    },
    {
      "cell_type": "code",
      "source": [
        "df = df.iloc[:,1:]"
      ],
      "metadata": {
        "id": "1Qq1ArPj6Fia"
      },
      "execution_count": null,
      "outputs": []
    },
    {
      "cell_type": "code",
      "source": [
        "df"
      ],
      "metadata": {
        "colab": {
          "base_uri": "https://localhost:8080/",
          "height": 500
        },
        "id": "8jwUSbAkyqEa",
        "outputId": "d7af52fa-3fa6-4f07-9da8-751c18f55fe0"
      },
      "execution_count": null,
      "outputs": [
        {
          "output_type": "execute_result",
          "data": {
            "text/plain": [
              "        ADDR_PCT_CD  JURIS_DESC  OFNS_DESC  PREM_TYP_DESC  LAW_CAT_CD  \\\n",
              "0         -0.333666           6          5       0.798697           0   \n",
              "1         -0.476409           6          5       0.798697           0   \n",
              "2         -1.561250           6          7       0.798697           0   \n",
              "3         -0.590602           6         21       0.798697           0   \n",
              "4         -0.504957           6          4       0.798697           1   \n",
              "...             ...         ...        ...            ...         ...   \n",
              "445109    -0.105279           6         11       0.234507           2   \n",
              "445110     0.551336           6          4       0.798697           0   \n",
              "445111    -0.419312           6         18      -2.210316           1   \n",
              "445112     1.065208           6         11       0.234507           2   \n",
              "445113     0.265851           6          9       0.234507           0   \n",
              "\n",
              "        FR_TIME      duration  FRONT OF  INSIDE  OPPOSITE OF  REAR OF  \\\n",
              "0            22      0.216667         0       0            0        0   \n",
              "1             0      0.216667         0       0            0        0   \n",
              "2            16      0.216667         0       0            0        0   \n",
              "3            16      0.216667         0       0            0        0   \n",
              "4            15      0.216667         0       0            0        0   \n",
              "...         ...           ...       ...     ...          ...      ...   \n",
              "445109        7      0.250000         1       0            0        0   \n",
              "445110        4      0.216667         0       0            0        0   \n",
              "445111        9      0.033333         0       1            0        0   \n",
              "445112       19      0.083333         0       1            0        0   \n",
              "445113       12  12357.000000         0       1            0        0   \n",
              "\n",
              "        SUSP_AGE_GROUP  SUSP_RACE  SUSP_SEX  VIC_AGE_GROUP  VIC_RACE  VIC_SEX  \n",
              "0                   24          6         2             20         6        2  \n",
              "1                   24          6         2             20         6        2  \n",
              "2                   24          6         2             20         6        2  \n",
              "3                   24          6         2             12         2        1  \n",
              "4                   24          6         2             20         6        2  \n",
              "...                ...        ...       ...            ...       ...      ...  \n",
              "445109              24          6         2             13         4        0  \n",
              "445110              24          6         2             20         6        2  \n",
              "445111              16          4         1             20         6        2  \n",
              "445112              16          5         1             13         5        0  \n",
              "445113              24          6         2             12         2        0  \n",
              "\n",
              "[445114 rows x 17 columns]"
            ],
            "text/html": [
              "\n",
              "  <div id=\"df-239d4f19-8c39-4d93-8445-c28bd7c33546\">\n",
              "    <div class=\"colab-df-container\">\n",
              "      <div>\n",
              "<style scoped>\n",
              "    .dataframe tbody tr th:only-of-type {\n",
              "        vertical-align: middle;\n",
              "    }\n",
              "\n",
              "    .dataframe tbody tr th {\n",
              "        vertical-align: top;\n",
              "    }\n",
              "\n",
              "    .dataframe thead th {\n",
              "        text-align: right;\n",
              "    }\n",
              "</style>\n",
              "<table border=\"1\" class=\"dataframe\">\n",
              "  <thead>\n",
              "    <tr style=\"text-align: right;\">\n",
              "      <th></th>\n",
              "      <th>ADDR_PCT_CD</th>\n",
              "      <th>JURIS_DESC</th>\n",
              "      <th>OFNS_DESC</th>\n",
              "      <th>PREM_TYP_DESC</th>\n",
              "      <th>LAW_CAT_CD</th>\n",
              "      <th>FR_TIME</th>\n",
              "      <th>duration</th>\n",
              "      <th>FRONT OF</th>\n",
              "      <th>INSIDE</th>\n",
              "      <th>OPPOSITE OF</th>\n",
              "      <th>REAR OF</th>\n",
              "      <th>SUSP_AGE_GROUP</th>\n",
              "      <th>SUSP_RACE</th>\n",
              "      <th>SUSP_SEX</th>\n",
              "      <th>VIC_AGE_GROUP</th>\n",
              "      <th>VIC_RACE</th>\n",
              "      <th>VIC_SEX</th>\n",
              "    </tr>\n",
              "  </thead>\n",
              "  <tbody>\n",
              "    <tr>\n",
              "      <th>0</th>\n",
              "      <td>-0.333666</td>\n",
              "      <td>6</td>\n",
              "      <td>5</td>\n",
              "      <td>0.798697</td>\n",
              "      <td>0</td>\n",
              "      <td>22</td>\n",
              "      <td>0.216667</td>\n",
              "      <td>0</td>\n",
              "      <td>0</td>\n",
              "      <td>0</td>\n",
              "      <td>0</td>\n",
              "      <td>24</td>\n",
              "      <td>6</td>\n",
              "      <td>2</td>\n",
              "      <td>20</td>\n",
              "      <td>6</td>\n",
              "      <td>2</td>\n",
              "    </tr>\n",
              "    <tr>\n",
              "      <th>1</th>\n",
              "      <td>-0.476409</td>\n",
              "      <td>6</td>\n",
              "      <td>5</td>\n",
              "      <td>0.798697</td>\n",
              "      <td>0</td>\n",
              "      <td>0</td>\n",
              "      <td>0.216667</td>\n",
              "      <td>0</td>\n",
              "      <td>0</td>\n",
              "      <td>0</td>\n",
              "      <td>0</td>\n",
              "      <td>24</td>\n",
              "      <td>6</td>\n",
              "      <td>2</td>\n",
              "      <td>20</td>\n",
              "      <td>6</td>\n",
              "      <td>2</td>\n",
              "    </tr>\n",
              "    <tr>\n",
              "      <th>2</th>\n",
              "      <td>-1.561250</td>\n",
              "      <td>6</td>\n",
              "      <td>7</td>\n",
              "      <td>0.798697</td>\n",
              "      <td>0</td>\n",
              "      <td>16</td>\n",
              "      <td>0.216667</td>\n",
              "      <td>0</td>\n",
              "      <td>0</td>\n",
              "      <td>0</td>\n",
              "      <td>0</td>\n",
              "      <td>24</td>\n",
              "      <td>6</td>\n",
              "      <td>2</td>\n",
              "      <td>20</td>\n",
              "      <td>6</td>\n",
              "      <td>2</td>\n",
              "    </tr>\n",
              "    <tr>\n",
              "      <th>3</th>\n",
              "      <td>-0.590602</td>\n",
              "      <td>6</td>\n",
              "      <td>21</td>\n",
              "      <td>0.798697</td>\n",
              "      <td>0</td>\n",
              "      <td>16</td>\n",
              "      <td>0.216667</td>\n",
              "      <td>0</td>\n",
              "      <td>0</td>\n",
              "      <td>0</td>\n",
              "      <td>0</td>\n",
              "      <td>24</td>\n",
              "      <td>6</td>\n",
              "      <td>2</td>\n",
              "      <td>12</td>\n",
              "      <td>2</td>\n",
              "      <td>1</td>\n",
              "    </tr>\n",
              "    <tr>\n",
              "      <th>4</th>\n",
              "      <td>-0.504957</td>\n",
              "      <td>6</td>\n",
              "      <td>4</td>\n",
              "      <td>0.798697</td>\n",
              "      <td>1</td>\n",
              "      <td>15</td>\n",
              "      <td>0.216667</td>\n",
              "      <td>0</td>\n",
              "      <td>0</td>\n",
              "      <td>0</td>\n",
              "      <td>0</td>\n",
              "      <td>24</td>\n",
              "      <td>6</td>\n",
              "      <td>2</td>\n",
              "      <td>20</td>\n",
              "      <td>6</td>\n",
              "      <td>2</td>\n",
              "    </tr>\n",
              "    <tr>\n",
              "      <th>...</th>\n",
              "      <td>...</td>\n",
              "      <td>...</td>\n",
              "      <td>...</td>\n",
              "      <td>...</td>\n",
              "      <td>...</td>\n",
              "      <td>...</td>\n",
              "      <td>...</td>\n",
              "      <td>...</td>\n",
              "      <td>...</td>\n",
              "      <td>...</td>\n",
              "      <td>...</td>\n",
              "      <td>...</td>\n",
              "      <td>...</td>\n",
              "      <td>...</td>\n",
              "      <td>...</td>\n",
              "      <td>...</td>\n",
              "      <td>...</td>\n",
              "    </tr>\n",
              "    <tr>\n",
              "      <th>445109</th>\n",
              "      <td>-0.105279</td>\n",
              "      <td>6</td>\n",
              "      <td>11</td>\n",
              "      <td>0.234507</td>\n",
              "      <td>2</td>\n",
              "      <td>7</td>\n",
              "      <td>0.250000</td>\n",
              "      <td>1</td>\n",
              "      <td>0</td>\n",
              "      <td>0</td>\n",
              "      <td>0</td>\n",
              "      <td>24</td>\n",
              "      <td>6</td>\n",
              "      <td>2</td>\n",
              "      <td>13</td>\n",
              "      <td>4</td>\n",
              "      <td>0</td>\n",
              "    </tr>\n",
              "    <tr>\n",
              "      <th>445110</th>\n",
              "      <td>0.551336</td>\n",
              "      <td>6</td>\n",
              "      <td>4</td>\n",
              "      <td>0.798697</td>\n",
              "      <td>0</td>\n",
              "      <td>4</td>\n",
              "      <td>0.216667</td>\n",
              "      <td>0</td>\n",
              "      <td>0</td>\n",
              "      <td>0</td>\n",
              "      <td>0</td>\n",
              "      <td>24</td>\n",
              "      <td>6</td>\n",
              "      <td>2</td>\n",
              "      <td>20</td>\n",
              "      <td>6</td>\n",
              "      <td>2</td>\n",
              "    </tr>\n",
              "    <tr>\n",
              "      <th>445111</th>\n",
              "      <td>-0.419312</td>\n",
              "      <td>6</td>\n",
              "      <td>18</td>\n",
              "      <td>-2.210316</td>\n",
              "      <td>1</td>\n",
              "      <td>9</td>\n",
              "      <td>0.033333</td>\n",
              "      <td>0</td>\n",
              "      <td>1</td>\n",
              "      <td>0</td>\n",
              "      <td>0</td>\n",
              "      <td>16</td>\n",
              "      <td>4</td>\n",
              "      <td>1</td>\n",
              "      <td>20</td>\n",
              "      <td>6</td>\n",
              "      <td>2</td>\n",
              "    </tr>\n",
              "    <tr>\n",
              "      <th>445112</th>\n",
              "      <td>1.065208</td>\n",
              "      <td>6</td>\n",
              "      <td>11</td>\n",
              "      <td>0.234507</td>\n",
              "      <td>2</td>\n",
              "      <td>19</td>\n",
              "      <td>0.083333</td>\n",
              "      <td>0</td>\n",
              "      <td>1</td>\n",
              "      <td>0</td>\n",
              "      <td>0</td>\n",
              "      <td>16</td>\n",
              "      <td>5</td>\n",
              "      <td>1</td>\n",
              "      <td>13</td>\n",
              "      <td>5</td>\n",
              "      <td>0</td>\n",
              "    </tr>\n",
              "    <tr>\n",
              "      <th>445113</th>\n",
              "      <td>0.265851</td>\n",
              "      <td>6</td>\n",
              "      <td>9</td>\n",
              "      <td>0.234507</td>\n",
              "      <td>0</td>\n",
              "      <td>12</td>\n",
              "      <td>12357.000000</td>\n",
              "      <td>0</td>\n",
              "      <td>1</td>\n",
              "      <td>0</td>\n",
              "      <td>0</td>\n",
              "      <td>24</td>\n",
              "      <td>6</td>\n",
              "      <td>2</td>\n",
              "      <td>12</td>\n",
              "      <td>2</td>\n",
              "      <td>0</td>\n",
              "    </tr>\n",
              "  </tbody>\n",
              "</table>\n",
              "<p>445114 rows × 17 columns</p>\n",
              "</div>\n",
              "      <button class=\"colab-df-convert\" onclick=\"convertToInteractive('df-239d4f19-8c39-4d93-8445-c28bd7c33546')\"\n",
              "              title=\"Convert this dataframe to an interactive table.\"\n",
              "              style=\"display:none;\">\n",
              "        \n",
              "  <svg xmlns=\"http://www.w3.org/2000/svg\" height=\"24px\"viewBox=\"0 0 24 24\"\n",
              "       width=\"24px\">\n",
              "    <path d=\"M0 0h24v24H0V0z\" fill=\"none\"/>\n",
              "    <path d=\"M18.56 5.44l.94 2.06.94-2.06 2.06-.94-2.06-.94-.94-2.06-.94 2.06-2.06.94zm-11 1L8.5 8.5l.94-2.06 2.06-.94-2.06-.94L8.5 2.5l-.94 2.06-2.06.94zm10 10l.94 2.06.94-2.06 2.06-.94-2.06-.94-.94-2.06-.94 2.06-2.06.94z\"/><path d=\"M17.41 7.96l-1.37-1.37c-.4-.4-.92-.59-1.43-.59-.52 0-1.04.2-1.43.59L10.3 9.45l-7.72 7.72c-.78.78-.78 2.05 0 2.83L4 21.41c.39.39.9.59 1.41.59.51 0 1.02-.2 1.41-.59l7.78-7.78 2.81-2.81c.8-.78.8-2.07 0-2.86zM5.41 20L4 18.59l7.72-7.72 1.47 1.35L5.41 20z\"/>\n",
              "  </svg>\n",
              "      </button>\n",
              "      \n",
              "  <style>\n",
              "    .colab-df-container {\n",
              "      display:flex;\n",
              "      flex-wrap:wrap;\n",
              "      gap: 12px;\n",
              "    }\n",
              "\n",
              "    .colab-df-convert {\n",
              "      background-color: #E8F0FE;\n",
              "      border: none;\n",
              "      border-radius: 50%;\n",
              "      cursor: pointer;\n",
              "      display: none;\n",
              "      fill: #1967D2;\n",
              "      height: 32px;\n",
              "      padding: 0 0 0 0;\n",
              "      width: 32px;\n",
              "    }\n",
              "\n",
              "    .colab-df-convert:hover {\n",
              "      background-color: #E2EBFA;\n",
              "      box-shadow: 0px 1px 2px rgba(60, 64, 67, 0.3), 0px 1px 3px 1px rgba(60, 64, 67, 0.15);\n",
              "      fill: #174EA6;\n",
              "    }\n",
              "\n",
              "    [theme=dark] .colab-df-convert {\n",
              "      background-color: #3B4455;\n",
              "      fill: #D2E3FC;\n",
              "    }\n",
              "\n",
              "    [theme=dark] .colab-df-convert:hover {\n",
              "      background-color: #434B5C;\n",
              "      box-shadow: 0px 1px 3px 1px rgba(0, 0, 0, 0.15);\n",
              "      filter: drop-shadow(0px 1px 2px rgba(0, 0, 0, 0.3));\n",
              "      fill: #FFFFFF;\n",
              "    }\n",
              "  </style>\n",
              "\n",
              "      <script>\n",
              "        const buttonEl =\n",
              "          document.querySelector('#df-239d4f19-8c39-4d93-8445-c28bd7c33546 button.colab-df-convert');\n",
              "        buttonEl.style.display =\n",
              "          google.colab.kernel.accessAllowed ? 'block' : 'none';\n",
              "\n",
              "        async function convertToInteractive(key) {\n",
              "          const element = document.querySelector('#df-239d4f19-8c39-4d93-8445-c28bd7c33546');\n",
              "          const dataTable =\n",
              "            await google.colab.kernel.invokeFunction('convertToInteractive',\n",
              "                                                     [key], {});\n",
              "          if (!dataTable) return;\n",
              "\n",
              "          const docLinkHtml = 'Like what you see? Visit the ' +\n",
              "            '<a target=\"_blank\" href=https://colab.research.google.com/notebooks/data_table.ipynb>data table notebook</a>'\n",
              "            + ' to learn more about interactive tables.';\n",
              "          element.innerHTML = '';\n",
              "          dataTable['output_type'] = 'display_data';\n",
              "          await google.colab.output.renderOutput(dataTable, element);\n",
              "          const docLink = document.createElement('div');\n",
              "          docLink.innerHTML = docLinkHtml;\n",
              "          element.appendChild(docLink);\n",
              "        }\n",
              "      </script>\n",
              "    </div>\n",
              "  </div>\n",
              "  "
            ]
          },
          "metadata": {},
          "execution_count": 312
        }
      ]
    },
    {
      "cell_type": "code",
      "source": [
        "print (list(df))\n",
        "print (df.shape)"
      ],
      "metadata": {
        "colab": {
          "base_uri": "https://localhost:8080/"
        },
        "id": "4FjgyfVLBmw9",
        "outputId": "0d444e43-21e5-4c41-f663-a851786ab175"
      },
      "execution_count": null,
      "outputs": [
        {
          "output_type": "stream",
          "name": "stdout",
          "text": [
            "['ADDR_PCT_CD', 'JURIS_DESC', 'OFNS_DESC', 'PREM_TYP_DESC', 'LAW_CAT_CD', 'FR_TIME', 'duration', 'FRONT OF', 'INSIDE', 'OPPOSITE OF', 'REAR OF', 'SUSP_AGE_GROUP', 'SUSP_RACE', 'SUSP_SEX', 'VIC_AGE_GROUP', 'VIC_RACE', 'VIC_SEX']\n",
            "(445114, 17)\n"
          ]
        }
      ]
    },
    {
      "cell_type": "code",
      "source": [
        "# prepare targets\n",
        "print (pd.unique(df2['LAW_CAT_CD']))\n",
        "print (pd.value_counts(df2['LAW_CAT_CD']))\n",
        "\n",
        "df['serious_crime'] = df2['LAW_CAT_CD']\n",
        "df['serious_crime'] = df['serious_crime'].map({'FELONY':'1',\n",
        "                             'MISDEMEANOR':'1',\n",
        "                             'VIOLATION':'0'},\n",
        "                             na_action=None)\n",
        "\n",
        "df_serious_crime = df['serious_crime']\n",
        "print (pd.unique(df_serious_crime))\n",
        "print (pd.value_counts(df_serious_crime))\n",
        "\n",
        "df_serious_crime = pd.to_numeric(df_serious_crime)\n",
        "print(df_serious_crime.dtypes)\n",
        "print (pd.unique(df_serious_crime))\n",
        "\n",
        "# prepare features\n",
        "features = list(df)\n",
        "features.remove('serious_crime')\n",
        "features.remove('LAW_CAT_CD')\n",
        "print (features)"
      ],
      "metadata": {
        "colab": {
          "base_uri": "https://localhost:8080/"
        },
        "id": "pvjs_4hF6UQq",
        "outputId": "8d3826ea-be63-40b9-ea10-2594300b44ec"
      },
      "execution_count": null,
      "outputs": [
        {
          "output_type": "stream",
          "name": "stdout",
          "text": [
            "['FELONY' 'MISDEMEANOR' 'VIOLATION']\n",
            "MISDEMEANOR    225559\n",
            "FELONY         148709\n",
            "VIOLATION       75238\n",
            "Name: LAW_CAT_CD, dtype: int64\n",
            "['1' '0']\n",
            "1    370583\n",
            "0     74531\n",
            "Name: serious_crime, dtype: int64\n",
            "int64\n",
            "[1 0]\n",
            "['ADDR_PCT_CD', 'JURIS_DESC', 'OFNS_DESC', 'PREM_TYP_DESC', 'FR_TIME', 'duration', 'FRONT OF', 'INSIDE', 'OPPOSITE OF', 'REAR OF', 'SUSP_AGE_GROUP', 'SUSP_RACE', 'SUSP_SEX', 'VIC_AGE_GROUP', 'VIC_RACE', 'VIC_SEX']\n"
          ]
        }
      ]
    },
    {
      "cell_type": "code",
      "source": [
        "df[features]"
      ],
      "metadata": {
        "colab": {
          "base_uri": "https://localhost:8080/",
          "height": 500
        },
        "id": "qBGabj_k5vDV",
        "outputId": "de5ccc13-bf16-4585-8b73-c19b3723bdf4"
      },
      "execution_count": null,
      "outputs": [
        {
          "output_type": "execute_result",
          "data": {
            "text/plain": [
              "        ADDR_PCT_CD  JURIS_DESC  OFNS_DESC  PREM_TYP_DESC  FR_TIME  \\\n",
              "0         -0.333666           6          5       0.798697       22   \n",
              "1         -0.476409           6          5       0.798697        0   \n",
              "2         -1.561250           6          7       0.798697       16   \n",
              "3         -0.590602           6         21       0.798697       16   \n",
              "4         -0.504957           6          4       0.798697       15   \n",
              "...             ...         ...        ...            ...      ...   \n",
              "445109    -0.105279           6         11       0.234507        7   \n",
              "445110     0.551336           6          4       0.798697        4   \n",
              "445111    -0.419312           6         18      -2.210316        9   \n",
              "445112     1.065208           6         11       0.234507       19   \n",
              "445113     0.265851           6          9       0.234507       12   \n",
              "\n",
              "            duration  FRONT OF  INSIDE  OPPOSITE OF  REAR OF  SUSP_AGE_GROUP  \\\n",
              "0           0.216667         0       0            0        0              24   \n",
              "1           0.216667         0       0            0        0              24   \n",
              "2           0.216667         0       0            0        0              24   \n",
              "3           0.216667         0       0            0        0              24   \n",
              "4           0.216667         0       0            0        0              24   \n",
              "...              ...       ...     ...          ...      ...             ...   \n",
              "445109      0.250000         1       0            0        0              24   \n",
              "445110      0.216667         0       0            0        0              24   \n",
              "445111      0.033333         0       1            0        0              16   \n",
              "445112      0.083333         0       1            0        0              16   \n",
              "445113  12357.000000         0       1            0        0              24   \n",
              "\n",
              "        SUSP_RACE  SUSP_SEX  VIC_AGE_GROUP  VIC_RACE  VIC_SEX  \n",
              "0               6         2             20         6        2  \n",
              "1               6         2             20         6        2  \n",
              "2               6         2             20         6        2  \n",
              "3               6         2             12         2        1  \n",
              "4               6         2             20         6        2  \n",
              "...           ...       ...            ...       ...      ...  \n",
              "445109          6         2             13         4        0  \n",
              "445110          6         2             20         6        2  \n",
              "445111          4         1             20         6        2  \n",
              "445112          5         1             13         5        0  \n",
              "445113          6         2             12         2        0  \n",
              "\n",
              "[445114 rows x 16 columns]"
            ],
            "text/html": [
              "\n",
              "  <div id=\"df-aba21995-e4c3-4822-b092-3fc39275924d\">\n",
              "    <div class=\"colab-df-container\">\n",
              "      <div>\n",
              "<style scoped>\n",
              "    .dataframe tbody tr th:only-of-type {\n",
              "        vertical-align: middle;\n",
              "    }\n",
              "\n",
              "    .dataframe tbody tr th {\n",
              "        vertical-align: top;\n",
              "    }\n",
              "\n",
              "    .dataframe thead th {\n",
              "        text-align: right;\n",
              "    }\n",
              "</style>\n",
              "<table border=\"1\" class=\"dataframe\">\n",
              "  <thead>\n",
              "    <tr style=\"text-align: right;\">\n",
              "      <th></th>\n",
              "      <th>ADDR_PCT_CD</th>\n",
              "      <th>JURIS_DESC</th>\n",
              "      <th>OFNS_DESC</th>\n",
              "      <th>PREM_TYP_DESC</th>\n",
              "      <th>FR_TIME</th>\n",
              "      <th>duration</th>\n",
              "      <th>FRONT OF</th>\n",
              "      <th>INSIDE</th>\n",
              "      <th>OPPOSITE OF</th>\n",
              "      <th>REAR OF</th>\n",
              "      <th>SUSP_AGE_GROUP</th>\n",
              "      <th>SUSP_RACE</th>\n",
              "      <th>SUSP_SEX</th>\n",
              "      <th>VIC_AGE_GROUP</th>\n",
              "      <th>VIC_RACE</th>\n",
              "      <th>VIC_SEX</th>\n",
              "    </tr>\n",
              "  </thead>\n",
              "  <tbody>\n",
              "    <tr>\n",
              "      <th>0</th>\n",
              "      <td>-0.333666</td>\n",
              "      <td>6</td>\n",
              "      <td>5</td>\n",
              "      <td>0.798697</td>\n",
              "      <td>22</td>\n",
              "      <td>0.216667</td>\n",
              "      <td>0</td>\n",
              "      <td>0</td>\n",
              "      <td>0</td>\n",
              "      <td>0</td>\n",
              "      <td>24</td>\n",
              "      <td>6</td>\n",
              "      <td>2</td>\n",
              "      <td>20</td>\n",
              "      <td>6</td>\n",
              "      <td>2</td>\n",
              "    </tr>\n",
              "    <tr>\n",
              "      <th>1</th>\n",
              "      <td>-0.476409</td>\n",
              "      <td>6</td>\n",
              "      <td>5</td>\n",
              "      <td>0.798697</td>\n",
              "      <td>0</td>\n",
              "      <td>0.216667</td>\n",
              "      <td>0</td>\n",
              "      <td>0</td>\n",
              "      <td>0</td>\n",
              "      <td>0</td>\n",
              "      <td>24</td>\n",
              "      <td>6</td>\n",
              "      <td>2</td>\n",
              "      <td>20</td>\n",
              "      <td>6</td>\n",
              "      <td>2</td>\n",
              "    </tr>\n",
              "    <tr>\n",
              "      <th>2</th>\n",
              "      <td>-1.561250</td>\n",
              "      <td>6</td>\n",
              "      <td>7</td>\n",
              "      <td>0.798697</td>\n",
              "      <td>16</td>\n",
              "      <td>0.216667</td>\n",
              "      <td>0</td>\n",
              "      <td>0</td>\n",
              "      <td>0</td>\n",
              "      <td>0</td>\n",
              "      <td>24</td>\n",
              "      <td>6</td>\n",
              "      <td>2</td>\n",
              "      <td>20</td>\n",
              "      <td>6</td>\n",
              "      <td>2</td>\n",
              "    </tr>\n",
              "    <tr>\n",
              "      <th>3</th>\n",
              "      <td>-0.590602</td>\n",
              "      <td>6</td>\n",
              "      <td>21</td>\n",
              "      <td>0.798697</td>\n",
              "      <td>16</td>\n",
              "      <td>0.216667</td>\n",
              "      <td>0</td>\n",
              "      <td>0</td>\n",
              "      <td>0</td>\n",
              "      <td>0</td>\n",
              "      <td>24</td>\n",
              "      <td>6</td>\n",
              "      <td>2</td>\n",
              "      <td>12</td>\n",
              "      <td>2</td>\n",
              "      <td>1</td>\n",
              "    </tr>\n",
              "    <tr>\n",
              "      <th>4</th>\n",
              "      <td>-0.504957</td>\n",
              "      <td>6</td>\n",
              "      <td>4</td>\n",
              "      <td>0.798697</td>\n",
              "      <td>15</td>\n",
              "      <td>0.216667</td>\n",
              "      <td>0</td>\n",
              "      <td>0</td>\n",
              "      <td>0</td>\n",
              "      <td>0</td>\n",
              "      <td>24</td>\n",
              "      <td>6</td>\n",
              "      <td>2</td>\n",
              "      <td>20</td>\n",
              "      <td>6</td>\n",
              "      <td>2</td>\n",
              "    </tr>\n",
              "    <tr>\n",
              "      <th>...</th>\n",
              "      <td>...</td>\n",
              "      <td>...</td>\n",
              "      <td>...</td>\n",
              "      <td>...</td>\n",
              "      <td>...</td>\n",
              "      <td>...</td>\n",
              "      <td>...</td>\n",
              "      <td>...</td>\n",
              "      <td>...</td>\n",
              "      <td>...</td>\n",
              "      <td>...</td>\n",
              "      <td>...</td>\n",
              "      <td>...</td>\n",
              "      <td>...</td>\n",
              "      <td>...</td>\n",
              "      <td>...</td>\n",
              "    </tr>\n",
              "    <tr>\n",
              "      <th>445109</th>\n",
              "      <td>-0.105279</td>\n",
              "      <td>6</td>\n",
              "      <td>11</td>\n",
              "      <td>0.234507</td>\n",
              "      <td>7</td>\n",
              "      <td>0.250000</td>\n",
              "      <td>1</td>\n",
              "      <td>0</td>\n",
              "      <td>0</td>\n",
              "      <td>0</td>\n",
              "      <td>24</td>\n",
              "      <td>6</td>\n",
              "      <td>2</td>\n",
              "      <td>13</td>\n",
              "      <td>4</td>\n",
              "      <td>0</td>\n",
              "    </tr>\n",
              "    <tr>\n",
              "      <th>445110</th>\n",
              "      <td>0.551336</td>\n",
              "      <td>6</td>\n",
              "      <td>4</td>\n",
              "      <td>0.798697</td>\n",
              "      <td>4</td>\n",
              "      <td>0.216667</td>\n",
              "      <td>0</td>\n",
              "      <td>0</td>\n",
              "      <td>0</td>\n",
              "      <td>0</td>\n",
              "      <td>24</td>\n",
              "      <td>6</td>\n",
              "      <td>2</td>\n",
              "      <td>20</td>\n",
              "      <td>6</td>\n",
              "      <td>2</td>\n",
              "    </tr>\n",
              "    <tr>\n",
              "      <th>445111</th>\n",
              "      <td>-0.419312</td>\n",
              "      <td>6</td>\n",
              "      <td>18</td>\n",
              "      <td>-2.210316</td>\n",
              "      <td>9</td>\n",
              "      <td>0.033333</td>\n",
              "      <td>0</td>\n",
              "      <td>1</td>\n",
              "      <td>0</td>\n",
              "      <td>0</td>\n",
              "      <td>16</td>\n",
              "      <td>4</td>\n",
              "      <td>1</td>\n",
              "      <td>20</td>\n",
              "      <td>6</td>\n",
              "      <td>2</td>\n",
              "    </tr>\n",
              "    <tr>\n",
              "      <th>445112</th>\n",
              "      <td>1.065208</td>\n",
              "      <td>6</td>\n",
              "      <td>11</td>\n",
              "      <td>0.234507</td>\n",
              "      <td>19</td>\n",
              "      <td>0.083333</td>\n",
              "      <td>0</td>\n",
              "      <td>1</td>\n",
              "      <td>0</td>\n",
              "      <td>0</td>\n",
              "      <td>16</td>\n",
              "      <td>5</td>\n",
              "      <td>1</td>\n",
              "      <td>13</td>\n",
              "      <td>5</td>\n",
              "      <td>0</td>\n",
              "    </tr>\n",
              "    <tr>\n",
              "      <th>445113</th>\n",
              "      <td>0.265851</td>\n",
              "      <td>6</td>\n",
              "      <td>9</td>\n",
              "      <td>0.234507</td>\n",
              "      <td>12</td>\n",
              "      <td>12357.000000</td>\n",
              "      <td>0</td>\n",
              "      <td>1</td>\n",
              "      <td>0</td>\n",
              "      <td>0</td>\n",
              "      <td>24</td>\n",
              "      <td>6</td>\n",
              "      <td>2</td>\n",
              "      <td>12</td>\n",
              "      <td>2</td>\n",
              "      <td>0</td>\n",
              "    </tr>\n",
              "  </tbody>\n",
              "</table>\n",
              "<p>445114 rows × 16 columns</p>\n",
              "</div>\n",
              "      <button class=\"colab-df-convert\" onclick=\"convertToInteractive('df-aba21995-e4c3-4822-b092-3fc39275924d')\"\n",
              "              title=\"Convert this dataframe to an interactive table.\"\n",
              "              style=\"display:none;\">\n",
              "        \n",
              "  <svg xmlns=\"http://www.w3.org/2000/svg\" height=\"24px\"viewBox=\"0 0 24 24\"\n",
              "       width=\"24px\">\n",
              "    <path d=\"M0 0h24v24H0V0z\" fill=\"none\"/>\n",
              "    <path d=\"M18.56 5.44l.94 2.06.94-2.06 2.06-.94-2.06-.94-.94-2.06-.94 2.06-2.06.94zm-11 1L8.5 8.5l.94-2.06 2.06-.94-2.06-.94L8.5 2.5l-.94 2.06-2.06.94zm10 10l.94 2.06.94-2.06 2.06-.94-2.06-.94-.94-2.06-.94 2.06-2.06.94z\"/><path d=\"M17.41 7.96l-1.37-1.37c-.4-.4-.92-.59-1.43-.59-.52 0-1.04.2-1.43.59L10.3 9.45l-7.72 7.72c-.78.78-.78 2.05 0 2.83L4 21.41c.39.39.9.59 1.41.59.51 0 1.02-.2 1.41-.59l7.78-7.78 2.81-2.81c.8-.78.8-2.07 0-2.86zM5.41 20L4 18.59l7.72-7.72 1.47 1.35L5.41 20z\"/>\n",
              "  </svg>\n",
              "      </button>\n",
              "      \n",
              "  <style>\n",
              "    .colab-df-container {\n",
              "      display:flex;\n",
              "      flex-wrap:wrap;\n",
              "      gap: 12px;\n",
              "    }\n",
              "\n",
              "    .colab-df-convert {\n",
              "      background-color: #E8F0FE;\n",
              "      border: none;\n",
              "      border-radius: 50%;\n",
              "      cursor: pointer;\n",
              "      display: none;\n",
              "      fill: #1967D2;\n",
              "      height: 32px;\n",
              "      padding: 0 0 0 0;\n",
              "      width: 32px;\n",
              "    }\n",
              "\n",
              "    .colab-df-convert:hover {\n",
              "      background-color: #E2EBFA;\n",
              "      box-shadow: 0px 1px 2px rgba(60, 64, 67, 0.3), 0px 1px 3px 1px rgba(60, 64, 67, 0.15);\n",
              "      fill: #174EA6;\n",
              "    }\n",
              "\n",
              "    [theme=dark] .colab-df-convert {\n",
              "      background-color: #3B4455;\n",
              "      fill: #D2E3FC;\n",
              "    }\n",
              "\n",
              "    [theme=dark] .colab-df-convert:hover {\n",
              "      background-color: #434B5C;\n",
              "      box-shadow: 0px 1px 3px 1px rgba(0, 0, 0, 0.15);\n",
              "      filter: drop-shadow(0px 1px 2px rgba(0, 0, 0, 0.3));\n",
              "      fill: #FFFFFF;\n",
              "    }\n",
              "  </style>\n",
              "\n",
              "      <script>\n",
              "        const buttonEl =\n",
              "          document.querySelector('#df-aba21995-e4c3-4822-b092-3fc39275924d button.colab-df-convert');\n",
              "        buttonEl.style.display =\n",
              "          google.colab.kernel.accessAllowed ? 'block' : 'none';\n",
              "\n",
              "        async function convertToInteractive(key) {\n",
              "          const element = document.querySelector('#df-aba21995-e4c3-4822-b092-3fc39275924d');\n",
              "          const dataTable =\n",
              "            await google.colab.kernel.invokeFunction('convertToInteractive',\n",
              "                                                     [key], {});\n",
              "          if (!dataTable) return;\n",
              "\n",
              "          const docLinkHtml = 'Like what you see? Visit the ' +\n",
              "            '<a target=\"_blank\" href=https://colab.research.google.com/notebooks/data_table.ipynb>data table notebook</a>'\n",
              "            + ' to learn more about interactive tables.';\n",
              "          element.innerHTML = '';\n",
              "          dataTable['output_type'] = 'display_data';\n",
              "          await google.colab.output.renderOutput(dataTable, element);\n",
              "          const docLink = document.createElement('div');\n",
              "          docLink.innerHTML = docLinkHtml;\n",
              "          element.appendChild(docLink);\n",
              "        }\n",
              "      </script>\n",
              "    </div>\n",
              "  </div>\n",
              "  "
            ]
          },
          "metadata": {},
          "execution_count": 315
        }
      ]
    },
    {
      "cell_type": "markdown",
      "source": [
        "## Modeling"
      ],
      "metadata": {
        "id": "EMV-f4gjGj33"
      }
    },
    {
      "cell_type": "code",
      "source": [
        "from sklearn.model_selection import train_test_split\n",
        "\n",
        "y = df_serious_crime\n",
        "x = np.array(df[features])\n",
        "X_train, X_test, y_train, y_test = train_test_split(x , y, test_size=0.2)"
      ],
      "metadata": {
        "id": "6Zn_H6-55vFP"
      },
      "execution_count": null,
      "outputs": []
    },
    {
      "cell_type": "markdown",
      "source": [
        "### Decision Tree Classifier"
      ],
      "metadata": {
        "id": "4wpeKo5gGrCU"
      }
    },
    {
      "cell_type": "code",
      "source": [
        "# Decision Tree Classifier\n",
        "\n",
        "from sklearn.tree import DecisionTreeClassifier\n",
        "from sklearn.metrics import accuracy_score, precision_score, recall_score, f1_score\n",
        "\n",
        "dtc = DecisionTreeClassifier(criterion = 'entropy')\n",
        "dtc.fit(X_train, y_train)\n",
        "\n",
        "y_pred_dtc = dtc.predict(X_test)\n",
        "\n",
        "accuracy_dtc = accuracy_score(y_test,y_pred_dtc)\n",
        "print('Accuracy = ', accuracy_dtc)\n",
        "precision_dtc = precision_score(y_test,y_pred_dtc,average=\"weighted\")\n",
        "print ('Precision = ', precision_dtc)\n",
        "recall_dtc = recall_score(y_test,y_pred_dtc,average=\"weighted\")\n",
        "print ('Recall = ', recall_dtc)\n",
        "f1_score_dtc = f1_score(y_test,y_pred_dtc,average=\"weighted\")\n",
        "print ('F1 Score = ', f1_score_dtc)"
      ],
      "metadata": {
        "id": "FMwi3688BG2t",
        "colab": {
          "base_uri": "https://localhost:8080/"
        },
        "outputId": "bb0745df-8f6a-40b0-a217-de722bf4dc76"
      },
      "execution_count": null,
      "outputs": [
        {
          "output_type": "stream",
          "name": "stdout",
          "text": [
            "Accuracy =  0.7055255383440234\n",
            "Precision =  0.7188104838477376\n",
            "Recall =  0.7055255383440234\n",
            "F1 Score =  0.7119695286083358\n"
          ]
        }
      ]
    },
    {
      "cell_type": "code",
      "source": [
        "# calculate feature importance\n",
        "\n",
        "importances_dtc = dtc.feature_importances_\n",
        "\n",
        "indices_dtc = np.argsort(importances_dtc)[::-1]\n",
        "for f in range(X_train.shape[1]):\n",
        "    print(\"%2d. %-*s %f\" % (f + 1, 20, features[f], importances_dtc[indices_dtc[f]]))\n",
        "plt.title('Feature Importance')\n",
        "plt.bar(range(X_train.shape[1]), importances_dtc[indices_dtc], color='pink', align='center')\n",
        "plt.xticks(range(X_train.shape[1]), features, rotation=90)\n",
        "plt.xlim([-1, X_train.shape[1]])\n",
        "plt.tight_layout()\n",
        "plt.show()"
      ],
      "metadata": {
        "colab": {
          "base_uri": "https://localhost:8080/",
          "height": 585
        },
        "id": "vE-RIv5t5vHg",
        "outputId": "6e4af035-ea50-418b-9bae-bb7d1b849f02"
      },
      "execution_count": null,
      "outputs": [
        {
          "output_type": "stream",
          "name": "stdout",
          "text": [
            " 1. ADDR_PCT_CD          0.194689\n",
            " 2. JURIS_DESC           0.174641\n",
            " 3. OFNS_DESC            0.171382\n",
            " 4. PREM_TYP_DESC        0.075773\n",
            " 5. FR_TIME              0.071761\n",
            " 6. duration             0.061298\n",
            " 7. FRONT OF             0.059313\n",
            " 8. INSIDE               0.042191\n",
            " 9. OPPOSITE OF          0.036417\n",
            "10. REAR OF              0.033836\n",
            "11. SUSP_AGE_GROUP       0.032012\n",
            "12. SUSP_RACE            0.015304\n",
            "13. SUSP_SEX             0.014804\n",
            "14. VIC_AGE_GROUP        0.008120\n",
            "15. VIC_RACE             0.004473\n",
            "16. VIC_SEX              0.003985\n"
          ]
        },
        {
          "output_type": "display_data",
          "data": {
            "text/plain": [
              "<Figure size 432x288 with 1 Axes>"
            ],
            "image/png": "[encoded data removed]"
          },
          "metadata": {
            "needs_background": "light"
          }
        }
      ]
    },
    {
      "cell_type": "markdown",
      "source": [
        "### XGBoost"
      ],
      "metadata": {
        "id": "w_ETZ1NiAkT8"
      }
    },
    {
      "cell_type": "code",
      "source": [
        "from xgboost import XGBClassifier\n",
        "from xgboost import plot_importance\n",
        "\n",
        "# The importance score is related to the importance_type hyperparameter.\n",
        "# importance_type: we choose 'cover', because most features we use are enumeration features, and 'cover' is more friendly to enumeration features\n",
        "\n",
        "imp_type = 'cover'\n",
        "xgbc = XGBClassifier(importance_type=imp_type)\n",
        "xgbc.fit(X_train, y_train)\n",
        "\n",
        "y_pred_xgbc = xgbc.predict(X_test)\n",
        "accuracy_xgbc = accuracy_score(y_test, y_pred_xgbc)\n",
        "print('Accuracy = ', accuracy_xgbc)\n",
        "precision_xgbc = precision_score(y_test,y_pred_xgbc,average=\"weighted\")\n",
        "print ('Precision = ', precision_xgbc)\n",
        "recall_xgbc = recall_score(y_test,y_pred_xgbc,average=\"weighted\")\n",
        "print ('Recall = ', recall_xgbc)\n",
        "f1_score_xgbc = f1_score(y_test,y_pred_xgbc,average=\"weighted\")\n",
        "print ('F1 Score = ', f1_score_xgbc)"
      ],
      "metadata": {
        "colab": {
          "base_uri": "https://localhost:8080/"
        },
        "id": "jY5F3E5QBobT",
        "outputId": "1166bd50-fee5-41db-cd80-1272e5e9787c"
      },
      "execution_count": null,
      "outputs": [
        {
          "output_type": "stream",
          "name": "stdout",
          "text": [
            "Accuracy =  0.8305157094234075\n",
            "Precision =  0.6897563435990657\n",
            "Recall =  0.8305157094234075\n",
            "F1 Score =  0.753619693126077\n"
          ]
        },
        {
          "output_type": "stream",
          "name": "stderr",
          "text": [
            "/usr/local/lib/python3.7/dist-packages/sklearn/metrics/_classification.py:1318: UndefinedMetricWarning: Precision is ill-defined and being set to 0.0 in labels with no predicted samples. Use `zero_division` parameter to control this behavior.\n",
            "  _warn_prf(average, modifier, msg_start, len(result))\n"
          ]
        }
      ]
    },
    {
      "cell_type": "code",
      "source": [
        "# calculate feature importance\n",
        "\n",
        "xgbc.get_booster().feature_names = features\n",
        "importances_xgbc_2 = zip(features, xgbc.feature_importances_)\n",
        "for f in importances_xgbc_2:\n",
        "    print(f)\n",
        "plt.barh(features, xgbc.feature_importances_)\n",
        "plt.show()\n",
        "\n",
        "plot_importance(xgbc, importance_type=imp_type)\n",
        "plt.show()"
      ],
      "metadata": {
        "colab": {
          "base_uri": "https://localhost:8080/",
          "height": 831
        },
        "id": "n7Cf-FCJBof5",
        "outputId": "d032702d-ee8c-44cb-c714-3e5fd7b1fff0"
      },
      "execution_count": null,
      "outputs": [
        {
          "output_type": "stream",
          "name": "stdout",
          "text": [
            "('ADDR_PCT_CD', 0.0797131)\n",
            "('JURIS_DESC', 0.10229946)\n",
            "('OFNS_DESC', 0.060641177)\n",
            "('PREM_TYP_DESC', 0.09186446)\n",
            "('FR_TIME', 0.04434935)\n",
            "('duration', 0.11025497)\n",
            "('FRONT OF', 0.019873075)\n",
            "('INSIDE', 0.010036824)\n",
            "('OPPOSITE OF', 0.04196221)\n",
            "('REAR OF', 0.0025916863)\n",
            "('SUSP_AGE_GROUP', 0.07848382)\n",
            "('SUSP_RACE', 0.10175305)\n",
            "('SUSP_SEX', 0.013013882)\n",
            "('VIC_AGE_GROUP', 0.11366443)\n",
            "('VIC_RACE', 0.06725417)\n",
            "('VIC_SEX', 0.062244315)\n"
          ]
        },
        {
          "output_type": "display_data",
          "data": {
            "text/plain": [
              "<Figure size 432x288 with 1 Axes>"
            ],
            "image/png": "[encoded data removed]"
          },
          "metadata": {
            "needs_background": "light"
          }
        },
        {
          "output_type": "display_data",
          "data": {
            "text/plain": [
              "<Figure size 432x288 with 1 Axes>"
            ],
            "image/png": "[encoded data removed]"
          },
          "metadata": {
            "needs_background": "light"
          }
        }
      ]
    },
    {
      "cell_type": "markdown",
      "source": [
        "### Random Forest Classifier"
      ],
      "metadata": {
        "id": "6TA6vRQTMCKL"
      }
    },
    {
      "cell_type": "code",
      "source": [
        "from sklearn.ensemble import RandomForestClassifier\n",
        "\n",
        "rfc = RandomForestClassifier(n_estimators=100, random_state=0, n_jobs=-1)\n",
        "rfc.fit(X_train, y_train)\n",
        "\n",
        "y_pred_rfc = rfc.predict(X_test)\n",
        "\n",
        "accuracy_rfc = accuracy_score(y_test, y_pred_rfc)\n",
        "print('Accuracy = ', accuracy_rfc)\n",
        "precision_rfc = precision_score(y_test,y_pred_rfc,average=\"weighted\")\n",
        "print ('Precision = ', precision_rfc)\n",
        "recall_rfc = recall_score(y_test,y_pred_rfc,average=\"weighted\")\n",
        "print ('Recall = ', recall_rfc)\n",
        "f1_score_rfc = f1_score(y_test,y_pred_rfc,average=\"weighted\")\n",
        "print ('F1 Score = ', f1_score_rfc)"
      ],
      "metadata": {
        "colab": {
          "base_uri": "https://localhost:8080/"
        },
        "id": "w215w1T3Born",
        "outputId": "ada84bbc-6ff2-4c28-9008-497795c0b24c"
      },
      "execution_count": null,
      "outputs": [
        {
          "output_type": "stream",
          "name": "stdout",
          "text": [
            "Accuracy =  0.8236073823618616\n",
            "Precision =  0.717753159090688\n",
            "Recall =  0.8236073823618616\n",
            "F1 Score =  0.7532502477893724\n"
          ]
        }
      ]
    },
    {
      "cell_type": "code",
      "source": [
        "# calculate feature importance\n",
        "\n",
        "importances_rfc = rfc.feature_importances_\n",
        "\n",
        "indices_rfc = np.argsort(importances_rfc)[::-1]\n",
        "for f in range(X_train.shape[1]):\n",
        "    print(\"%2d. %-*s %f\" % (f + 1, 20, features[f], importances_rfc[indices_rfc[f]]))\n",
        "plt.title('Feature Importance')\n",
        "plt.bar(range(X_train.shape[1]), importances_rfc[indices_rfc], color='lightgreen', align='center')\n",
        "plt.xticks(range(X_train.shape[1]), features, rotation=90)\n",
        "plt.xlim([-1, X_train.shape[1]])\n",
        "plt.tight_layout()\n",
        "plt.show()"
      ],
      "metadata": {
        "colab": {
          "base_uri": "https://localhost:8080/",
          "height": 585
        },
        "id": "FCtLd6UdBokl",
        "outputId": "aac6088c-fd4c-4b2f-994a-0df663502d0f"
      },
      "execution_count": null,
      "outputs": [
        {
          "output_type": "stream",
          "name": "stdout",
          "text": [
            " 1. ADDR_PCT_CD          0.211366\n",
            " 2. JURIS_DESC           0.198986\n",
            " 3. OFNS_DESC            0.153824\n",
            " 4. PREM_TYP_DESC        0.081556\n",
            " 5. FR_TIME              0.077162\n",
            " 6. duration             0.049922\n",
            " 7. FRONT OF             0.049130\n",
            " 8. INSIDE               0.042547\n",
            " 9. OPPOSITE OF          0.036899\n",
            "10. REAR OF              0.027952\n",
            "11. SUSP_AGE_GROUP       0.023721\n",
            "12. SUSP_RACE            0.016286\n",
            "13. SUSP_SEX             0.012962\n",
            "14. VIC_AGE_GROUP        0.009887\n",
            "15. VIC_RACE             0.004147\n",
            "16. VIC_SEX              0.003656\n"
          ]
        },
        {
          "output_type": "display_data",
          "data": {
            "text/plain": [
              "<Figure size 432x288 with 1 Axes>"
            ],
            "image/png": "[encoded data removed]"
          },
          "metadata": {
            "needs_background": "light"
          }
        }
      ]
    },
    {
      "cell_type": "markdown",
      "source": [
        "### Naive Bayes Classifier"
      ],
      "metadata": {
        "id": "O0iZVCxxMHkx"
      }
    },
    {
      "cell_type": "code",
      "source": [
        "from sklearn.naive_bayes import GaussianNB\n",
        "\n",
        "nbc = GaussianNB()\n",
        "nbc.fit(X_train,y_train)\n",
        "y_pred_nbc = nbc.predict(X_test)\n",
        "\n",
        "accuracy_nbc = accuracy_score(y_test, y_pred_nbc)\n",
        "print('Accuracy = ', accuracy_nbc)\n",
        "precision_nbc = precision_score(y_test,y_pred_nbc,average=\"weighted\")\n",
        "print ('Precision = ', precision_nbc)\n",
        "recall_nbc = recall_score(y_test,y_pred_nbc,average=\"weighted\")\n",
        "print ('Recall = ', recall_nbc)\n",
        "f1_score_nbc = f1_score(y_test,y_pred_nbc,average=\"weighted\")\n",
        "print ('F1 Score = ', f1_score_nbc)"
      ],
      "metadata": {
        "colab": {
          "base_uri": "https://localhost:8080/"
        },
        "id": "2uN-oI2mBouJ",
        "outputId": "531c2b24-57c7-4aa3-9dab-af3398325903"
      },
      "execution_count": null,
      "outputs": [
        {
          "output_type": "stream",
          "name": "stdout",
          "text": [
            "Accuracy =  0.8265841411769992\n",
            "Precision =  0.7165150910951343\n",
            "Recall =  0.8265841411769992\n",
            "F1 Score =  0.7533479624594575\n"
          ]
        }
      ]
    },
    {
      "cell_type": "code",
      "source": [
        "# calculate feature importance\n",
        "\n",
        "from sklearn.inspection import permutation_importance\n",
        "\n",
        "imps_nbc = permutation_importance(nbc, X_test, y_test)\n",
        "importances_nbc = imps_nbc.importances_mean\n",
        "std = imps_nbc.importances_std\n",
        "indices_nbc = np.argsort(importances_nbc)[::-1]\n",
        "\n",
        "indices_nbc = np.argsort(importances_nbc)[::-1]\n",
        "for f in range(X_train.shape[1]):\n",
        "    print(\"%2d. %-*s %f\" % (f + 1, 20, features[f], importances_nbc[indices_nbc[f]]))\n",
        "plt.title('Feature Importance')\n",
        "plt.bar(range(X_train.shape[1]), importances_nbc[indices_nbc], color='orange', align='center')\n",
        "plt.xticks(range(X_train.shape[1]), features, rotation=90)\n",
        "plt.xlim([-1, X_train.shape[1]])\n",
        "plt.tight_layout()\n",
        "plt.show()"
      ],
      "metadata": {
        "colab": {
          "base_uri": "https://localhost:8080/",
          "height": 585
        },
        "id": "olSRNuqzPiXY",
        "outputId": "eea51e95-cdf0-4b5b-8336-2cc7b49e409e"
      },
      "execution_count": null,
      "outputs": [
        {
          "output_type": "stream",
          "name": "stdout",
          "text": [
            " 1. ADDR_PCT_CD          0.000018\n",
            " 2. JURIS_DESC           0.000004\n",
            " 3. OFNS_DESC            0.000004\n",
            " 4. PREM_TYP_DESC        0.000002\n",
            " 5. FR_TIME              0.000002\n",
            " 6. duration             0.000000\n",
            " 7. FRONT OF             0.000000\n",
            " 8. INSIDE               0.000000\n",
            " 9. OPPOSITE OF          0.000000\n",
            "10. REAR OF              0.000000\n",
            "11. SUSP_AGE_GROUP       0.000000\n",
            "12. SUSP_RACE            0.000000\n",
            "13. SUSP_SEX             0.000000\n",
            "14. VIC_AGE_GROUP        0.000000\n",
            "15. VIC_RACE             0.000000\n",
            "16. VIC_SEX              -0.000020\n"
          ]
        },
        {
          "output_type": "display_data",
          "data": {
            "text/plain": [
              "<Figure size 432x288 with 1 Axes>"
            ],
            "image/png": "[encoded data removed]"
          },
          "metadata": {
            "needs_background": "light"
          }
        }
      ]
    },
    {
      "cell_type": "markdown",
      "source": [
        "### Logistic Regression"
      ],
      "metadata": {
        "id": "WYiJjeWCThrr"
      }
    },
    {
      "cell_type": "code",
      "source": [
        "from sklearn.linear_model import LogisticRegression\n",
        "\n",
        "LR = LogisticRegression()\n",
        "LR.fit(X_train,y_train)\n",
        "\n",
        "y_pred_lr = LR.predict(X_test)\n",
        "\n",
        "accuracy_lr = accuracy_score(y_test, y_pred_lr)\n",
        "print('Accuracy = ', accuracy_lr)\n",
        "precision_lr = precision_score(y_test,y_pred_lr,average=\"weighted\")\n",
        "print ('Precision = ', precision_lr)\n",
        "recall_lr = recall_score(y_test,y_pred_lr,average=\"weighted\")\n",
        "print ('Recall = ', recall_lr)\n",
        "f1_score_lr = f1_score(y_test,y_pred_lr,average=\"weighted\")\n",
        "print ('F1 Score = ', f1_score_lr)"
      ],
      "metadata": {
        "id": "Gj0yOAsk5vLk",
        "colab": {
          "base_uri": "https://localhost:8080/"
        },
        "outputId": "9d91b5bb-6970-435b-a737-d4c1ea15d008"
      },
      "execution_count": null,
      "outputs": [
        {
          "output_type": "stream",
          "name": "stdout",
          "text": [
            "Accuracy =  0.8305157094234075\n",
            "Precision =  0.6897563435990657\n",
            "Recall =  0.8305157094234075\n",
            "F1 Score =  0.753619693126077\n"
          ]
        },
        {
          "output_type": "stream",
          "name": "stderr",
          "text": [
            "/usr/local/lib/python3.7/dist-packages/sklearn/linear_model/_logistic.py:818: ConvergenceWarning: lbfgs failed to converge (status=1):\n",
            "STOP: TOTAL NO. of ITERATIONS REACHED LIMIT.\n",
            "\n",
            "Increase the number of iterations (max_iter) or scale the data as shown in:\n",
            "    https://scikit-learn.org/stable/modules/preprocessing.html\n",
            "Please also refer to the documentation for alternative solver options:\n",
            "    https://scikit-learn.org/stable/modules/linear_model.html#logistic-regression\n",
            "  extra_warning_msg=_LOGISTIC_SOLVER_CONVERGENCE_MSG,\n",
            "/usr/local/lib/python3.7/dist-packages/sklearn/metrics/_classification.py:1318: UndefinedMetricWarning: Precision is ill-defined and being set to 0.0 in labels with no predicted samples. Use `zero_division` parameter to control this behavior.\n",
            "  _warn_prf(average, modifier, msg_start, len(result))\n"
          ]
        }
      ]
    },
    {
      "cell_type": "code",
      "source": [
        "from matplotlib import pyplot\n",
        "\n",
        "importances_lr = LR.coef_[0]\n",
        "\n",
        "indices_lr = np.argsort(importances_lr)[::-1]\n",
        "for f in range(X_train.shape[1]):\n",
        "    print(\"%2d. %-*s %f\" % (f + 1, 20, features[f], importances_lr[indices_lr[f]]))\n",
        "plt.title('Feature Importance')\n",
        "plt.bar(range(X_train.shape[1]), importances_lr[indices_lr], color='pink', align='center')\n",
        "plt.xticks(range(X_train.shape[1]), features, rotation=90)\n",
        "plt.xlim([-1, X_train.shape[1]])\n",
        "plt.tight_layout()\n",
        "plt.show()"
      ],
      "metadata": {
        "colab": {
          "base_uri": "https://localhost:8080/",
          "height": 585
        },
        "id": "YX487XZfkY9A",
        "outputId": "de26a689-dbaa-4679-ff92-ed8b53d4866c"
      },
      "execution_count": null,
      "outputs": [
        {
          "output_type": "stream",
          "name": "stdout",
          "text": [
            " 1. ADDR_PCT_CD          0.129603\n",
            " 2. JURIS_DESC           0.031570\n",
            " 3. OFNS_DESC            0.028140\n",
            " 4. PREM_TYP_DESC        0.024376\n",
            " 5. FR_TIME              0.023805\n",
            " 6. duration             0.008200\n",
            " 7. FRONT OF             0.003969\n",
            " 8. INSIDE               0.003838\n",
            " 9. OPPOSITE OF          0.001293\n",
            "10. REAR OF              0.000000\n",
            "11. SUSP_AGE_GROUP       -0.000427\n",
            "12. SUSP_RACE            -0.000841\n",
            "13. SUSP_SEX             -0.015865\n",
            "14. VIC_AGE_GROUP        -0.016383\n",
            "15. VIC_RACE             -0.017842\n",
            "16. VIC_SEX              -0.044731\n"
          ]
        },
        {
          "output_type": "display_data",
          "data": {
            "text/plain": [
              "<Figure size 432x288 with 1 Axes>"
            ],
            "image/png": "[encoded data removed]"
          },
          "metadata": {
            "needs_background": "light"
          }
        }
      ]
    },
    {
      "cell_type": "markdown",
      "source": [
        "### LightGBM"
      ],
      "metadata": {
        "id": "ETXM-0fSjU11"
      }
    },
    {
      "cell_type": "code",
      "source": [
        "import lightgbm as lgb\n",
        "\n",
        "imp_type = 'gain'\n",
        "lgbc = lgb.LGBMClassifier(importance_type=imp_type)\n",
        "lgbc.fit(X_train, y_train)\n",
        "\n",
        "y_pred_lgb = lgbc.predict(X_test)\n",
        "\n",
        "accuracy_lgb = accuracy_score(y_test, y_pred_lgb)\n",
        "print('Accuracy = ', accuracy_lgb)\n",
        "precision_lgb = precision_score(y_test,y_pred_lgb,average=\"weighted\")\n",
        "print ('Precision = ', precision_lgb)\n",
        "recall_lgb = recall_score(y_test,y_pred_lgb,average=\"weighted\")\n",
        "print ('Recall = ', recall_lgb)\n",
        "f1_score_lgb = f1_score(y_test,y_pred_lgb,average=\"weighted\")\n",
        "print ('F1 Score = ', f1_score_lgb)"
      ],
      "metadata": {
        "id": "HAdnoz2TQi5t",
        "colab": {
          "base_uri": "https://localhost:8080/"
        },
        "outputId": "3ba52ddf-7046-46a6-9e32-86a01654ee2c"
      },
      "execution_count": null,
      "outputs": [
        {
          "output_type": "stream",
          "name": "stdout",
          "text": [
            "Accuracy =  0.8305157094234075\n",
            "Precision =  0.6897563435990657\n",
            "Recall =  0.8305157094234075\n",
            "F1 Score =  0.753619693126077\n"
          ]
        },
        {
          "output_type": "stream",
          "name": "stderr",
          "text": [
            "/usr/local/lib/python3.7/dist-packages/sklearn/metrics/_classification.py:1318: UndefinedMetricWarning: Precision is ill-defined and being set to 0.0 in labels with no predicted samples. Use `zero_division` parameter to control this behavior.\n",
            "  _warn_prf(average, modifier, msg_start, len(result))\n"
          ]
        }
      ]
    },
    {
      "cell_type": "code",
      "source": [
        "# calculate feature importance\n",
        "\n",
        "import seaborn as sns\n",
        "\n",
        "importances_lgb = zip(features, lgbc.booster_.feature_importance(importance_type='gain'))\n",
        "for f in importances_lgb:\n",
        "    print(f)\n",
        "feature_imp_lgb = pd.DataFrame(sorted(zip(lgbc.feature_importances_, features)), columns=['Value', 'Feature'])\n",
        "plt.figure(figsize=(20, 10))\n",
        "sns.barplot(x=\"Value\", y=\"Feature\", data=feature_imp_lgb.sort_values(by=\"Value\", ascending=False))\n",
        "plt.title('LightGBM Features')\n",
        "plt.tight_layout()\n",
        "plt.show()\n",
        "lgb.plot_importance(lgbc.booster_, importance_type=imp_type)\n",
        "plt.show()"
      ],
      "metadata": {
        "id": "k5zYRhWCQi8-",
        "colab": {
          "base_uri": "https://localhost:8080/",
          "height": 1000
        },
        "outputId": "ffc48b57-538f-4733-c777-1e3fbb2feaab"
      },
      "execution_count": null,
      "outputs": [
        {
          "output_type": "stream",
          "name": "stdout",
          "text": [
            "('ADDR_PCT_CD', 2765.952253818512)\n",
            "('JURIS_DESC', 256.54989194869995)\n",
            "('OFNS_DESC', 1567.459338068962)\n",
            "('PREM_TYP_DESC', 1616.431868493557)\n",
            "('FR_TIME', 2438.769239962101)\n",
            "('duration', 3093.274021744728)\n",
            "('FRONT OF', 248.23868083953857)\n",
            "('INSIDE', 126.93227028846741)\n",
            "('OPPOSITE OF', 79.15486097335815)\n",
            "('REAR OF', 42.874119997024536)\n",
            "('SUSP_AGE_GROUP', 707.2357430458069)\n",
            "('SUSP_RACE', 683.4263296127319)\n",
            "('SUSP_SEX', 502.26421070098877)\n",
            "('VIC_AGE_GROUP', 695.3348628878593)\n",
            "('VIC_RACE', 817.0357753038406)\n",
            "('VIC_SEX', 497.04601073265076)\n"
          ]
        },
        {
          "output_type": "display_data",
          "data": {
            "text/plain": [
              "<Figure size 1440x720 with 1 Axes>"
            ],
            "image/png": "[encoded data removed]"
          },
          "metadata": {
            "needs_background": "light"
          }
        },
        {
          "output_type": "display_data",
          "data": {
            "text/plain": [
              "<Figure size 432x288 with 1 Axes>"
            ],
            "image/png": "[encoded data removed]"
          },
          "metadata": {
            "needs_background": "light"
          }
        }
      ]
    },
    {
      "cell_type": "markdown",
      "source": [
        "### Experimentation with Random Forest Classifier"
      ],
      "metadata": {
        "id": "5Gfxmf6Nqa5Q"
      }
    },
    {
      "cell_type": "code",
      "source": [
        "from sklearn.model_selection import cross_val_score\n",
        "from sklearn.model_selection import GridSearchCV\n",
        "\n",
        "rfc = RandomForestClassifier(n_estimators=10, random_state=90)\n",
        "\n",
        "# cross validation; use a single metrics \"f1 score weighted\" to evaluate performance\n",
        "score_pre = cross_val_score(rfc, x, y, cv=2, scoring='f1_weighted').mean()\n",
        "score_pre"
      ],
      "metadata": {
        "colab": {
          "base_uri": "https://localhost:8080/"
        },
        "id": "HzutqM6pmsfU",
        "outputId": "e958052b-19cd-42b9-9f83-2c02b13ac804"
      },
      "execution_count": null,
      "outputs": [
        {
          "output_type": "execute_result",
          "data": {
            "text/plain": [
              "0.7524022570362141"
            ]
          },
          "metadata": {},
          "execution_count": 330
        }
      ]
    },
    {
      "cell_type": "code",
      "source": [
        "# tune hyperparameters: n_estimators (most influential hyperparameter for random forest)\n",
        "\n",
        "score_list = []\n",
        "\n",
        "# build a RF every 20 steps, get scores of different n_estimators values\n",
        "for i in range(0,200,20):\n",
        "    rfc = RandomForestClassifier(n_estimators=i+1\n",
        "                                ,random_state=90)\n",
        "    score = cross_val_score(rfc, x, y, cv=2, scoring='f1_weighted').mean()\n",
        "    score_list.append(score)\n",
        "score_max = max(score_list)\n",
        "print('max score：{}'.format(score_max),\n",
        "      'n_estimators：{}'.format(score_list.index(score_max)*20+1))\n",
        "\n",
        "# plot learning curve\n",
        "aa = np.arange(1,201,20)\n",
        "plt.subplot(111)\n",
        "plt.plot(aa, score_list, 'r-')\n",
        "plt.show()"
      ],
      "metadata": {
        "colab": {
          "base_uri": "https://localhost:8080/",
          "height": 283
        },
        "id": "yuJkp6Szmshx",
        "outputId": "042bcc18-c3d7-4ff1-9701-350f8d77a0d2"
      },
      "execution_count": null,
      "outputs": [
        {
          "output_type": "stream",
          "name": "stdout",
          "text": [
            "max score：0.7564075723032315 n_estimators：41\n"
          ]
        },
        {
          "output_type": "display_data",
          "data": {
            "text/plain": [
              "<Figure size 432x288 with 1 Axes>"
            ],
            "image/png": "[encoded data removed]"
          },
          "metadata": {
            "needs_background": "light"
          }
        }
      ]
    },
    {
      "cell_type": "code",
      "source": [
        "# Reduce the value range of n_estimators to between 30-50\n",
        "\n",
        "score_list = []\n",
        "\n",
        "for i in range(30,50,2):\n",
        "    rfc = RandomForestClassifier(n_estimators=i+1\n",
        "                                ,random_state=90)\n",
        "    score = cross_val_score(rfc, x, y, cv=2, scoring='f1_weighted').mean()\n",
        "    score_list.append(score)\n",
        "score_max = max(score_list)\n",
        "print('max score：{}'.format(score_max),\n",
        "      'n_estimators：{}'.format(score_list.index(score_max)*2+30))"
      ],
      "metadata": {
        "colab": {
          "base_uri": "https://localhost:8080/"
        },
        "id": "BEQmL38hmsk2",
        "outputId": "2d271abd-cb30-49ac-9b7a-f96991bed68f"
      },
      "execution_count": null,
      "outputs": [
        {
          "output_type": "stream",
          "name": "stdout",
          "text": [
            "max score：0.7564127112244228 n_estimators：38\n"
          ]
        }
      ]
    },
    {
      "cell_type": "code",
      "source": [
        "# build a RF with n_estimators=38\n",
        "\n",
        "from sklearn import metrics\n",
        "\n",
        "rfc = RandomForestClassifier(n_estimators=38, random_state=90)\n",
        "\n",
        "# use GridSearch to select max_depth value\n",
        "param_grid = {'max_depth':np.arange(1,20,2)}\n",
        "GS = GridSearchCV(rfc, param_grid, cv=2, scoring='f1_weighted')\n",
        "GS.fit(X_train, y_train)\n",
        "\n",
        "best_param = GS.best_params_\n",
        "best_score = GS.best_score_\n",
        "print(best_param, best_score)"
      ],
      "metadata": {
        "colab": {
          "base_uri": "https://localhost:8080/"
        },
        "id": "iCUU_FsRmsnP",
        "outputId": "c1fe632f-5ef3-4f56-ef33-7688987ec82e"
      },
      "execution_count": null,
      "outputs": [
        {
          "output_type": "stream",
          "name": "stdout",
          "text": [
            "{'max_depth': 13} 0.7572055287688624\n"
          ]
        }
      ]
    },
    {
      "cell_type": "code",
      "source": [
        "# use the best model to predict\n",
        "best_model=GS.best_estimator_\n",
        "y_pred_rf_best=best_model.predict(X_test)\n",
        "#metrics.f1_score(y_test, y_pred_rf_best)\n",
        "f1_score_rf_best = f1_score(y_test,y_pred_rf_best,average=\"weighted\")\n",
        "print ('F1 Score = ', f1_score_rf_best)"
      ],
      "metadata": {
        "id": "SzOoqOCj8BTN",
        "colab": {
          "base_uri": "https://localhost:8080/"
        },
        "outputId": "a3a93e15-f3e2-41c4-c89b-e6af46ae7931"
      },
      "execution_count": null,
      "outputs": [
        {
          "output_type": "stream",
          "name": "stdout",
          "text": [
            "F1 Score =  0.753619693126077\n"
          ]
        }
      ]
    },
    {
      "cell_type": "code",
      "source": [],
      "metadata": {
        "id": "HeSQXSpe5vN0"
      },
      "execution_count": null,
      "outputs": []
    }
  ]
}